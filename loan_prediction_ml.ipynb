{
  "cells": [
    {
      "cell_type": "markdown",
      "metadata": {
        "id": "yaPbJngw4RaN"
      },
      "source": [
        "PROJECTSTATEMENT: BANK LOAN APPROVAL PREDICTION\n",
        "\n",
        "TYPE: BINARY CLASSIFICATION\n",
        "\n",
        "In this project we will use classification algorithms to predict wether the based on the data given like INCOME,LOAN AMOUNT, CREDIT SCORE a loan can be approved or not.\n"
      ]
    },
    {
      "cell_type": "markdown",
      "metadata": {
        "id": "mBJK1hKt5_9j"
      },
      "source": [
        "IMPORTING THE NECCESSARY LIBRARIES"
      ]
    },
    {
      "cell_type": "code",
      "execution_count": null,
      "metadata": {
        "id": "N_pHdPLxnQyk"
      },
      "outputs": [],
      "source": [
        "import numpy as np\n",
        "import pandas as pd\n",
        "import matplotlib.pyplot as plt  #visualisation\n",
        "import seaborn as sb             #visualisation\n",
        "from sklearn.model_selection import train_test_split  #to split the given dataset into train and test dataset\n",
        "from sklearn.preprocessing import LabelEncoder, StandardScaler  #LabelEncoder to convert the catergorical data into integer form and StandardScaler for scaling the data\n",
        "from sklearn import metrics\n",
        "from sklearn.metrics import confusion_matrix\n",
        "from sklearn.svm import SVC\n",
        "from imblearn.over_sampling import RandomOverSampler #for balancing the dataset"
      ]
    },
    {
      "cell_type": "markdown",
      "metadata": {
        "id": "WourOnHRHq3g"
      },
      "source": [
        "DATA COLLECTION AND PROCCESSING"
      ]
    },
    {
      "cell_type": "code",
      "execution_count": null,
      "metadata": {
        "id": "v8ygtj8WyLMy"
      },
      "outputs": [],
      "source": [
        "from google.colab import files\n",
        "loan_dataset = files.upload()"
      ]
    },
    {
      "cell_type": "code",
      "execution_count": null,
      "metadata": {
        "id": "JGpTgyiQ7o8Q"
      },
      "outputs": [],
      "source": [
        "# loading the dataset to pandas DataFrame\n",
        "loan_dataset = pd.read_csv('loan_dataset.csv')"
      ]
    },
    {
      "cell_type": "markdown",
      "metadata": {
        "id": "bolcdo8AJqeo"
      },
      "source": [
        "printing the loan_dataset"
      ]
    },
    {
      "cell_type": "code",
      "execution_count": null,
      "metadata": {
        "id": "bCtWwIvKJvEI"
      },
      "outputs": [],
      "source": [
        "loan_dataset"
      ]
    },
    {
      "cell_type": "code",
      "execution_count": null,
      "metadata": {
        "id": "UlGxAaMnJ1Sp"
      },
      "outputs": [],
      "source": [
        "#printing the type of dataset\n",
        "type(loan_dataset)"
      ]
    },
    {
      "cell_type": "code",
      "execution_count": null,
      "metadata": {
        "id": "ms5rgqTvKLRe"
      },
      "outputs": [],
      "source": [
        "#printing the first 10 rows of the loan_dataset\n",
        "loan_dataset.head(10)"
      ]
    },
    {
      "cell_type": "code",
      "execution_count": null,
      "metadata": {
        "id": "N7t8E-lWKLPE"
      },
      "outputs": [],
      "source": [
        "#finding the rows and columns of the loan_dataset i.e shape\n",
        "loan_dataset.shape"
      ]
    },
    {
      "cell_type": "markdown",
      "metadata": {
        "id": "Dvw77yd1PD8v"
      },
      "source": [
        "there are 614 rows and 13 columns were each columns represent a features or attribute"
      ]
    },
    {
      "cell_type": "markdown",
      "metadata": {
        "id": "IrZUTidyPr65"
      },
      "source": [
        "Now we'll find the datatypes of each columns\n",
        "\n",
        "By doing this we can identify the columns with categorical data type and  convert the categorical data into integer type to train our model"
      ]
    },
    {
      "cell_type": "code",
      "execution_count": null,
      "metadata": {
        "id": "Y1C-TrqJPqKh"
      },
      "outputs": [],
      "source": [
        "loan_dataset.dtypes"
      ]
    },
    {
      "cell_type": "markdown",
      "metadata": {
        "id": "JyTxRDPUUoGf"
      },
      "source": []
    },
    {
      "cell_type": "markdown",
      "metadata": {
        "id": "ZEIK47LiPXsm"
      },
      "source": [
        "To get values like the mean, count and min of the column we can use describe() method."
      ]
    },
    {
      "cell_type": "code",
      "execution_count": null,
      "metadata": {
        "id": "HnCpznw2KLMM"
      },
      "outputs": [],
      "source": [
        "loan_dataset.describe()"
      ]
    },
    {
      "cell_type": "markdown",
      "metadata": {
        "id": "uWMGJYR1_3Bv"
      },
      "source": [
        "write here the observaton made on the each feature"
      ]
    },
    {
      "cell_type": "markdown",
      "metadata": {
        "id": "Y6Ff9TYEHCED"
      },
      "source": [
        "PERFORMING EDA ON THE LOAN_DATASET TO GET MORE INSIGHTS ON OUR DATASET"
      ]
    },
    {
      "cell_type": "code",
      "execution_count": null,
      "metadata": {
        "id": "AQmTUymHJ7SV"
      },
      "outputs": [],
      "source": [
        "# Dependent column values\n",
        "loan_dataset['Dependents'].value_counts()"
      ]
    },
    {
      "cell_type": "code",
      "execution_count": null,
      "metadata": {
        "id": "mJtYnhRGKHc-"
      },
      "outputs": [],
      "source": [
        "#since the 3+ value can not be treated as integer we'll replace 3+ with 4 using replace() function\n",
        "loan_dataset = loan_dataset.replace(to_replace='3+', value=4)"
      ]
    },
    {
      "cell_type": "code",
      "execution_count": null,
      "metadata": {
        "id": "sTikKQMyKcPg"
      },
      "outputs": [],
      "source": [
        "# again printing Dependent column values\n",
        "loan_dataset['Dependents'].value_counts()"
      ]
    },
    {
      "cell_type": "markdown",
      "metadata": {
        "id": "FO3yJXiZHK39"
      },
      "source": [
        "finding the null values in the dataset and replacing it with the median for numerical value and mode for categorical values"
      ]
    },
    {
      "cell_type": "code",
      "execution_count": null,
      "metadata": {
        "id": "3ByqmwJ-Hcjn"
      },
      "outputs": [],
      "source": [
        "# number of missing values in each column\n",
        "loan_dataset.isnull().sum()"
      ]
    },
    {
      "cell_type": "markdown",
      "metadata": {
        "id": "yDFh81kMH7he"
      },
      "source": [
        "as we can see the there are -\n",
        "\n",
        "13 missing values in Gender column\n",
        "\n",
        "15 missing values in Dependents column\n",
        "\n",
        "32 missing values in Self_employed column\n",
        "\n",
        "22 missing values in LoanAmount column\n",
        "\n",
        "14 missing values in Loan_Amount_Term column\n",
        "\n",
        "50 missing values in Credit_History column"
      ]
    },
    {
      "cell_type": "code",
      "execution_count": null,
      "metadata": {
        "id": "eCfmCMrTIv1q"
      },
      "outputs": [],
      "source": [
        "#replacing the null values with median in integer columns\n",
        "integer_features = ['LoanAmount','Loan_Amount_Term','Credit_History','CoapplicantIncome']\n",
        "for feature in integer_features:\n",
        "    loan_dataset[feature].fillna(loan_dataset[feature].median(),inplace=True)\n",
        "\n",
        "\n",
        "#replacing the null values with MODE in categorical columns\n",
        "categorical_features = ['Gender','Married','Dependents','Self_Employed']\n",
        "for features in categorical_features:\n",
        "    loan_dataset[features].fillna(loan_dataset[features].mode()[0],inplace=True)\n"
      ]
    },
    {
      "cell_type": "code",
      "execution_count": null,
      "metadata": {
        "id": "rlaUGcIZahNs"
      },
      "outputs": [],
      "source": [
        "loan_dataset.head(20)"
      ]
    },
    {
      "cell_type": "code",
      "execution_count": null,
      "metadata": {
        "id": "fL-U8jniO98A"
      },
      "outputs": [],
      "source": [
        "#now again using isnull() function to see if there is any null value left\n",
        "loan_dataset.isnull().sum()"
      ]
    },
    {
      "cell_type": "markdown",
      "metadata": {
        "id": "ZNT8gXSatkit"
      },
      "source": [
        "NOW SINCE ALL THE MISSING VALUES ARE HANDLED NOW WE'LL PLOT EACH FEATURES WITH LOAN STATUS TO TO DISCOVER WHICH PARAMETERS ARE DIRECTLY OR INDIRECTLY PROPORTIONAL TO LOAN APPROVAL"
      ]
    },
    {
      "cell_type": "code",
      "execution_count": null,
      "metadata": {
        "id": "A6LzOpkT4fiy"
      },
      "outputs": [],
      "source": [
        "plt.subplots(figsize=(20, 5))\n",
        "for i, col in enumerate(['Gender', 'Married', 'Dependents', 'Education']):\n",
        "    plt.subplot(1, 4, i+1)\n",
        "    sb.countplot(data=loan_dataset, x=col, hue='Loan_Status')\n",
        "plt.tight_layout()\n",
        "plt.show()"
      ]
    },
    {
      "cell_type": "markdown",
      "metadata": {
        "id": "877yMEeN5IPM"
      },
      "source": [
        "ABOVE GRAPHS CONCLUSION-\n",
        "\n",
        "* FROM THE ABOVE WE CAN SAY THAT THE EDUCATION QUALIFICATION IS DIRECTLY PROPORTIONAL TO LOAN APPROVAL AND CHANCES TO GETTING YOUR LOAN APPROVE IS HIGH AS COMPARED TO NON-GRADUATE\n",
        "\n",
        "* FROM THE ABOVE WE CAN SAY THAT THE THE LOAN APPROVAL RATE FOR THE MARRIED CUSTOMER IS HIGH\n",
        "\n",
        "*  FROM THE ABPVE WE CAN SAY THAT THE LOAN APPROVAL RATE FOR MALE GENDER IS HIGH COMPARED TO FEMALE\n",
        "\n",
        "*  ALSO, FROM ABOVE WE CAN SAY THAT THE LOAN APPROVAL IS INVERSELY PROPORTIONAL TO NUMBER OF DEPENDENTS\n",
        "\n",
        "\n",
        "\n",
        "\n"
      ]
    },
    {
      "cell_type": "code",
      "execution_count": null,
      "metadata": {
        "id": "0Qn3TRW6Qsk2"
      },
      "outputs": [],
      "source": [
        "plt.subplots(figsize=(25, 5))\n",
        "for i, col in enumerate(['Credit_History','Property_Area','Self_Employed','Loan_Amount_Term']):\n",
        "    plt.subplot(1, 4, i+1)\n",
        "    sb.countplot(data=loan_dataset, x=col, hue='Loan_Status')\n",
        "plt.tight_layout()\n",
        "plt.show()"
      ]
    },
    {
      "cell_type": "code",
      "execution_count": null,
      "metadata": {
        "id": "A47Xo8RmZYXx"
      },
      "outputs": [],
      "source": [
        "#Let’s see the mean amount of the loan granted to males as well as females. For that, we will use groupyby() method.\n",
        "loan_dataset.groupby('Gender').mean(numeric_only=True)['LoanAmount']"
      ]
    },
    {
      "cell_type": "markdown",
      "metadata": {
        "id": "0rP1zC-RuI3v"
      },
      "source": [
        "THE LOAN APPLICATION BY MALE ARE MORE COMPARED TO FEMALE"
      ]
    },
    {
      "cell_type": "code",
      "execution_count": null,
      "metadata": {
        "id": "VH0KL-6BpRns"
      },
      "outputs": [],
      "source": [
        "#Let’s see the mean amount of the loan granted to males as well as females based on their marriage . For that, we will use groupyby() method.\n",
        "loan_dataset.groupby(['Married','Gender']).mean(numeric_only=True)['LoanAmount']"
      ]
    },
    {
      "cell_type": "markdown",
      "metadata": {
        "id": "B008RlgyaMN3"
      },
      "source": [
        "THE LOAN APPLICATION BY MALE ARE MORE IF THEY ARE MARRIED COMPARED TO FEMALE"
      ]
    },
    {
      "cell_type": "code",
      "execution_count": null,
      "metadata": {
        "id": "SelEVpCFuLI2"
      },
      "outputs": [],
      "source": [
        "loan_dataset.groupby(['Gender','Married']).mean(numeric_only=True)['LoanAmount']"
      ]
    },
    {
      "cell_type": "code",
      "execution_count": null,
      "metadata": {
        "id": "nVAB_NgL1jlf"
      },
      "outputs": [],
      "source": [
        "# Distribution of target variable\n",
        "sb.countplot(x='Loan_Status', data=loan_dataset)\n",
        "plt.show()"
      ]
    },
    {
      "cell_type": "markdown",
      "metadata": {
        "id": "FmYFDq0d2anl"
      },
      "source": [
        "PLOTTING PIE CHART OF THE GIVEN DATASET TO UNDERSTAND WHETHER THE DATASET IS BALANCED OR NOT\n",
        "\n",
        "\n"
      ]
    },
    {
      "cell_type": "code",
      "execution_count": null,
      "metadata": {
        "id": "LzD-ML7K2brt"
      },
      "outputs": [],
      "source": [
        "temp = loan_dataset['Loan_Status'].value_counts()\n",
        "plt.pie(temp.values,\n",
        "        labels=temp.index,\n",
        "        autopct='%1.1f%%')\n",
        "plt.show()"
      ]
    },
    {
      "cell_type": "markdown",
      "metadata": {
        "id": "9xxtwN882liI"
      },
      "source": [
        "THE ABOVE THE CHART SHOWS THAT THE DATASET IS NOT BALANCED HENCE WE WILL BALANCE THE DATA FOR OPTIMUM MODEL PERFORMANCE"
      ]
    },
    {
      "cell_type": "code",
      "execution_count": null,
      "metadata": {
        "id": "nyiLjZkv7Tvr"
      },
      "outputs": [],
      "source": [
        "# now since LOAN_ID has no meaning or no contribution so we can drop that colomn by using drop() function\n",
        "new_loan_dataset = loan_dataset.drop(['Loan_ID'],axis=1)\n",
        "new_loan_dataset"
      ]
    },
    {
      "cell_type": "markdown",
      "metadata": {
        "id": "BilvDF_zE-Nc"
      },
      "source": [
        "NOW WE'LL CONVERT THE CATERGORICAL DATA COLUMN TO INTERGER TYPE AS WE KNOW THAT THE MACHINE LEARNING ALGORITHM UNDERSTANDS ONLY THE INTEGER VALUES AND NOT CATEGORICAL VALUE"
      ]
    },
    {
      "cell_type": "markdown",
      "metadata": {
        "id": "xkjEVYZtcgRg"
      },
      "source": [
        "FOR GENDER: MALE=1, FEMALE=0\n",
        "\n",
        "FOR MARRIED: YES=1, NO =0\n",
        "\n",
        "FOR SELF_EMPLOYEED: YES=1, NO =0\n",
        "\n",
        "FOR PROPERTY_AREA: RURAL=0, SEMIURBAN=1, URBAN=2\n",
        "\n",
        "FOR EDUCATION: GRADUATE=1, NOT GRADUATE =0\n",
        "\n",
        "FOR LOAN_STATUS: Y=1, N =0"
      ]
    },
    {
      "cell_type": "code",
      "execution_count": null,
      "metadata": {
        "id": "ALS59So5cU2b"
      },
      "outputs": [],
      "source": [
        "label_encoder = LabelEncoder()\n",
        "categorical_columns = ['Gender', 'Married', 'Education', 'Self_Employed',  'Property_Area', 'Loan_Status']\n",
        "\n",
        "for column in categorical_columns:\n",
        "    new_loan_dataset[column] = label_encoder.fit_transform(new_loan_dataset[column])\n",
        "\n",
        "new_loan_dataset.replace({\"Education\":{0: 1,1 :0}},inplace=True)"
      ]
    },
    {
      "cell_type": "markdown",
      "metadata": {
        "id": "itS63ZXi_whK"
      },
      "source": [
        "Now to confirm that all the colomns are converted into integer type run the following code"
      ]
    },
    {
      "cell_type": "code",
      "execution_count": null,
      "metadata": {
        "id": "ta-dBERh_jXK"
      },
      "outputs": [],
      "source": [
        "new_loan_dataset.dtypes"
      ]
    },
    {
      "cell_type": "markdown",
      "metadata": {
        "id": "Sz9-S7C-AEJ9"
      },
      "source": [
        "since no categorical coloumn is present we have successfully converted all coloumns into int ofo float type as it is needed to plot the heat map"
      ]
    },
    {
      "cell_type": "markdown",
      "metadata": {
        "id": "bM-d59umCcX7"
      },
      "source": [
        "NOW BASED ON THE GIVEN DATASET LET'S CREATE HEAT MAP AND CONCLUDE OUR UNDERSTANDING FROM IT\n",
        "\n",
        "HEAT MAP S ALSO KNOWN AS CORRELATION MAP USE TO FIND THE DIRECT AND INDIRECT RELATION BETWEEN ATTRIBUTES/FEATURES"
      ]
    },
    {
      "cell_type": "code",
      "execution_count": null,
      "metadata": {
        "id": "WyHHizhzKK7N"
      },
      "outputs": [],
      "source": [
        "# Correlation heatmap\n",
        "plt.figure(figsize=(10,6))\n",
        "sb.heatmap(new_loan_dataset.corr(),cmap='BrBG' ,annot=True, fmt='.2f', linewidths=1,cbar=True)\n",
        "plt.show()"
      ]
    },
    {
      "cell_type": "markdown",
      "metadata": {
        "id": "xPqpwGKKeeLI"
      },
      "source": [
        "BASED ON THE ABOVE HEAT MAP WE CAN SAY THAT-\n",
        "\n",
        "1. APPLICANT INCOME IS DIRECTLY PROPRTIONAL TO LOAN AMOUNT\n",
        "\n",
        "2. IF YOUR CREDIT HISTORY IS GOOD THEN LOAN APPROVAL CHANCES  IS HIGH  "
      ]
    },
    {
      "cell_type": "code",
      "execution_count": null,
      "metadata": {
        "id": "j7TpSM2rjc0R"
      },
      "outputs": [],
      "source": [
        "#creating a new feature called Income to Loan Ration\n",
        "new_loan_dataset['Income_to_Loan_Ratio'] = new_loan_dataset['ApplicantIncome'] / (new_loan_dataset['LoanAmount'] + 1)\n",
        "new_loan_dataset.head()"
      ]
    },
    {
      "cell_type": "code",
      "execution_count": null,
      "metadata": {
        "id": "0-VpRNY_KKzc"
      },
      "outputs": [],
      "source": [
        "# Correlation heatmap\n",
        "plt.figure(figsize=(8,6))\n",
        "sb.heatmap(new_loan_dataset.corr(),cmap='BrBG' ,annot=True, fmt='.2f', linewidths=1,cbar=True)\n",
        "plt.show()"
      ]
    },
    {
      "cell_type": "markdown",
      "metadata": {
        "id": "GQYar_R6D_sK"
      },
      "source": [
        "FROM ABOVE HEAT MAP WE CAN SAY THAT THE INCOME_TO_LOAN_RATIO HAS NO DIRECT CORRELATION WITH LOAN STATUS SO WE'LL REMOVE THAT FEATURE"
      ]
    },
    {
      "cell_type": "code",
      "execution_count": null,
      "metadata": {
        "colab": {
          "background_save": true
        },
        "id": "SLuABuw0V5-V",
        "outputId": "30fb8764-1334-463e-9865-48a6fca44fd0"
      },
      "outputs": [
        {
          "data": {
            "application/vnd.google.colaboratory.intrinsic+json": {
              "summary": "{\n  \"name\": \"new_loan_dataset\",\n  \"rows\": 614,\n  \"fields\": [\n    {\n      \"column\": \"Gender\",\n      \"properties\": {\n        \"dtype\": \"number\",\n        \"std\": 0,\n        \"min\": 0,\n        \"max\": 1,\n        \"num_unique_values\": 2,\n        \"samples\": [\n          0,\n          1\n        ],\n        \"semantic_type\": \"\",\n        \"description\": \"\"\n      }\n    },\n    {\n      \"column\": \"Married\",\n      \"properties\": {\n        \"dtype\": \"number\",\n        \"std\": 0,\n        \"min\": 0,\n        \"max\": 1,\n        \"num_unique_values\": 2,\n        \"samples\": [\n          1,\n          0\n        ],\n        \"semantic_type\": \"\",\n        \"description\": \"\"\n      }\n    },\n    {\n      \"column\": \"Dependents\",\n      \"properties\": {\n        \"dtype\": \"category\",\n        \"num_unique_values\": 4,\n        \"samples\": [\n          \"1\",\n          4\n        ],\n        \"semantic_type\": \"\",\n        \"description\": \"\"\n      }\n    },\n    {\n      \"column\": \"Education\",\n      \"properties\": {\n        \"dtype\": \"number\",\n        \"std\": 0,\n        \"min\": 0,\n        \"max\": 1,\n        \"num_unique_values\": 2,\n        \"samples\": [\n          0,\n          1\n        ],\n        \"semantic_type\": \"\",\n        \"description\": \"\"\n      }\n    },\n    {\n      \"column\": \"Self_Employed\",\n      \"properties\": {\n        \"dtype\": \"number\",\n        \"std\": 0,\n        \"min\": 0,\n        \"max\": 1,\n        \"num_unique_values\": 2,\n        \"samples\": [\n          1,\n          0\n        ],\n        \"semantic_type\": \"\",\n        \"description\": \"\"\n      }\n    },\n    {\n      \"column\": \"ApplicantIncome\",\n      \"properties\": {\n        \"dtype\": \"number\",\n        \"std\": 6109,\n        \"min\": 150,\n        \"max\": 81000,\n        \"num_unique_values\": 505,\n        \"samples\": [\n          8333,\n          4342\n        ],\n        \"semantic_type\": \"\",\n        \"description\": \"\"\n      }\n    },\n    {\n      \"column\": \"CoapplicantIncome\",\n      \"properties\": {\n        \"dtype\": \"number\",\n        \"std\": 2926.2483692241917,\n        \"min\": 0.0,\n        \"max\": 41667.0,\n        \"num_unique_values\": 287,\n        \"samples\": [\n          1840.0,\n          2042.0\n        ],\n        \"semantic_type\": \"\",\n        \"description\": \"\"\n      }\n    },\n    {\n      \"column\": \"LoanAmount\",\n      \"properties\": {\n        \"dtype\": \"number\",\n        \"std\": 84.10723338042615,\n        \"min\": 9.0,\n        \"max\": 700.0,\n        \"num_unique_values\": 203,\n        \"samples\": [\n          100.0,\n          70.0\n        ],\n        \"semantic_type\": \"\",\n        \"description\": \"\"\n      }\n    },\n    {\n      \"column\": \"Loan_Amount_Term\",\n      \"properties\": {\n        \"dtype\": \"number\",\n        \"std\": 64.42862906767301,\n        \"min\": 12.0,\n        \"max\": 480.0,\n        \"num_unique_values\": 10,\n        \"samples\": [\n          84.0,\n          120.0\n        ],\n        \"semantic_type\": \"\",\n        \"description\": \"\"\n      }\n    },\n    {\n      \"column\": \"Credit_History\",\n      \"properties\": {\n        \"dtype\": \"number\",\n        \"std\": 0.3523386063583013,\n        \"min\": 0.0,\n        \"max\": 1.0,\n        \"num_unique_values\": 2,\n        \"samples\": [\n          0.0,\n          1.0\n        ],\n        \"semantic_type\": \"\",\n        \"description\": \"\"\n      }\n    },\n    {\n      \"column\": \"Property_Area\",\n      \"properties\": {\n        \"dtype\": \"number\",\n        \"std\": 0,\n        \"min\": 0,\n        \"max\": 2,\n        \"num_unique_values\": 3,\n        \"samples\": [\n          2,\n          0\n        ],\n        \"semantic_type\": \"\",\n        \"description\": \"\"\n      }\n    },\n    {\n      \"column\": \"Loan_Status\",\n      \"properties\": {\n        \"dtype\": \"number\",\n        \"std\": 0,\n        \"min\": 0,\n        \"max\": 1,\n        \"num_unique_values\": 2,\n        \"samples\": [\n          0,\n          1\n        ],\n        \"semantic_type\": \"\",\n        \"description\": \"\"\n      }\n    },\n    {\n      \"column\": \"Income_to_Loan_Ratio\",\n      \"properties\": {\n        \"dtype\": \"number\",\n        \"std\": 33.58204841503945,\n        \"min\": 1.1029411764705883,\n        \"max\": 323.5289256198347,\n        \"num_unique_values\": 610,\n        \"samples\": [\n          18.565891472868216,\n          68.4931506849315\n        ],\n        \"semantic_type\": \"\",\n        \"description\": \"\"\n      }\n    }\n  ]\n}",
              "type": "dataframe",
              "variable_name": "new_loan_dataset"
            },
            "text/html": [
              "\n",
              "  <div id=\"df-e04369c9-d221-4937-b3ee-e03d53dc247a\" class=\"colab-df-container\">\n",
              "    <div>\n",
              "<style scoped>\n",
              "    .dataframe tbody tr th:only-of-type {\n",
              "        vertical-align: middle;\n",
              "    }\n",
              "\n",
              "    .dataframe tbody tr th {\n",
              "        vertical-align: top;\n",
              "    }\n",
              "\n",
              "    .dataframe thead th {\n",
              "        text-align: right;\n",
              "    }\n",
              "</style>\n",
              "<table border=\"1\" class=\"dataframe\">\n",
              "  <thead>\n",
              "    <tr style=\"text-align: right;\">\n",
              "      <th></th>\n",
              "      <th>Gender</th>\n",
              "      <th>Married</th>\n",
              "      <th>Dependents</th>\n",
              "      <th>Education</th>\n",
              "      <th>Self_Employed</th>\n",
              "      <th>ApplicantIncome</th>\n",
              "      <th>CoapplicantIncome</th>\n",
              "      <th>LoanAmount</th>\n",
              "      <th>Loan_Amount_Term</th>\n",
              "      <th>Credit_History</th>\n",
              "      <th>Property_Area</th>\n",
              "      <th>Loan_Status</th>\n",
              "      <th>Income_to_Loan_Ratio</th>\n",
              "    </tr>\n",
              "  </thead>\n",
              "  <tbody>\n",
              "    <tr>\n",
              "      <th>0</th>\n",
              "      <td>1</td>\n",
              "      <td>0</td>\n",
              "      <td>0</td>\n",
              "      <td>1</td>\n",
              "      <td>0</td>\n",
              "      <td>5849</td>\n",
              "      <td>0.0</td>\n",
              "      <td>128.0</td>\n",
              "      <td>360.0</td>\n",
              "      <td>1.0</td>\n",
              "      <td>2</td>\n",
              "      <td>1</td>\n",
              "      <td>45.341085</td>\n",
              "    </tr>\n",
              "    <tr>\n",
              "      <th>1</th>\n",
              "      <td>1</td>\n",
              "      <td>1</td>\n",
              "      <td>1</td>\n",
              "      <td>1</td>\n",
              "      <td>0</td>\n",
              "      <td>4583</td>\n",
              "      <td>1508.0</td>\n",
              "      <td>128.0</td>\n",
              "      <td>360.0</td>\n",
              "      <td>1.0</td>\n",
              "      <td>0</td>\n",
              "      <td>0</td>\n",
              "      <td>35.527132</td>\n",
              "    </tr>\n",
              "    <tr>\n",
              "      <th>2</th>\n",
              "      <td>1</td>\n",
              "      <td>1</td>\n",
              "      <td>0</td>\n",
              "      <td>1</td>\n",
              "      <td>1</td>\n",
              "      <td>3000</td>\n",
              "      <td>0.0</td>\n",
              "      <td>66.0</td>\n",
              "      <td>360.0</td>\n",
              "      <td>1.0</td>\n",
              "      <td>2</td>\n",
              "      <td>1</td>\n",
              "      <td>44.776119</td>\n",
              "    </tr>\n",
              "    <tr>\n",
              "      <th>3</th>\n",
              "      <td>1</td>\n",
              "      <td>1</td>\n",
              "      <td>0</td>\n",
              "      <td>0</td>\n",
              "      <td>0</td>\n",
              "      <td>2583</td>\n",
              "      <td>2358.0</td>\n",
              "      <td>120.0</td>\n",
              "      <td>360.0</td>\n",
              "      <td>1.0</td>\n",
              "      <td>2</td>\n",
              "      <td>1</td>\n",
              "      <td>21.347107</td>\n",
              "    </tr>\n",
              "    <tr>\n",
              "      <th>4</th>\n",
              "      <td>1</td>\n",
              "      <td>0</td>\n",
              "      <td>0</td>\n",
              "      <td>1</td>\n",
              "      <td>0</td>\n",
              "      <td>6000</td>\n",
              "      <td>0.0</td>\n",
              "      <td>141.0</td>\n",
              "      <td>360.0</td>\n",
              "      <td>1.0</td>\n",
              "      <td>2</td>\n",
              "      <td>1</td>\n",
              "      <td>42.253521</td>\n",
              "    </tr>\n",
              "  </tbody>\n",
              "</table>\n",
              "</div>\n",
              "    <div class=\"colab-df-buttons\">\n",
              "\n",
              "  <div class=\"colab-df-container\">\n",
              "    <button class=\"colab-df-convert\" onclick=\"convertToInteractive('df-e04369c9-d221-4937-b3ee-e03d53dc247a')\"\n",
              "            title=\"Convert this dataframe to an interactive table.\"\n",
              "            style=\"display:none;\">\n",
              "\n",
              "  <svg xmlns=\"http://www.w3.org/2000/svg\" height=\"24px\" viewBox=\"0 -960 960 960\">\n",
              "    <path d=\"M120-120v-720h720v720H120Zm60-500h600v-160H180v160Zm220 220h160v-160H400v160Zm0 220h160v-160H400v160ZM180-400h160v-160H180v160Zm440 0h160v-160H620v160ZM180-180h160v-160H180v160Zm440 0h160v-160H620v160Z\"/>\n",
              "  </svg>\n",
              "    </button>\n",
              "\n",
              "  <style>\n",
              "    .colab-df-container {\n",
              "      display:flex;\n",
              "      gap: 12px;\n",
              "    }\n",
              "\n",
              "    .colab-df-convert {\n",
              "      background-color: #E8F0FE;\n",
              "      border: none;\n",
              "      border-radius: 50%;\n",
              "      cursor: pointer;\n",
              "      display: none;\n",
              "      fill: #1967D2;\n",
              "      height: 32px;\n",
              "      padding: 0 0 0 0;\n",
              "      width: 32px;\n",
              "    }\n",
              "\n",
              "    .colab-df-convert:hover {\n",
              "      background-color: #E2EBFA;\n",
              "      box-shadow: 0px 1px 2px rgba(60, 64, 67, 0.3), 0px 1px 3px 1px rgba(60, 64, 67, 0.15);\n",
              "      fill: #174EA6;\n",
              "    }\n",
              "\n",
              "    .colab-df-buttons div {\n",
              "      margin-bottom: 4px;\n",
              "    }\n",
              "\n",
              "    [theme=dark] .colab-df-convert {\n",
              "      background-color: #3B4455;\n",
              "      fill: #D2E3FC;\n",
              "    }\n",
              "\n",
              "    [theme=dark] .colab-df-convert:hover {\n",
              "      background-color: #434B5C;\n",
              "      box-shadow: 0px 1px 3px 1px rgba(0, 0, 0, 0.15);\n",
              "      filter: drop-shadow(0px 1px 2px rgba(0, 0, 0, 0.3));\n",
              "      fill: #FFFFFF;\n",
              "    }\n",
              "  </style>\n",
              "\n",
              "    <script>\n",
              "      const buttonEl =\n",
              "        document.querySelector('#df-e04369c9-d221-4937-b3ee-e03d53dc247a button.colab-df-convert');\n",
              "      buttonEl.style.display =\n",
              "        google.colab.kernel.accessAllowed ? 'block' : 'none';\n",
              "\n",
              "      async function convertToInteractive(key) {\n",
              "        const element = document.querySelector('#df-e04369c9-d221-4937-b3ee-e03d53dc247a');\n",
              "        const dataTable =\n",
              "          await google.colab.kernel.invokeFunction('convertToInteractive',\n",
              "                                                    [key], {});\n",
              "        if (!dataTable) return;\n",
              "\n",
              "        const docLinkHtml = 'Like what you see? Visit the ' +\n",
              "          '<a target=\"_blank\" href=https://colab.research.google.com/notebooks/data_table.ipynb>data table notebook</a>'\n",
              "          + ' to learn more about interactive tables.';\n",
              "        element.innerHTML = '';\n",
              "        dataTable['output_type'] = 'display_data';\n",
              "        await google.colab.output.renderOutput(dataTable, element);\n",
              "        const docLink = document.createElement('div');\n",
              "        docLink.innerHTML = docLinkHtml;\n",
              "        element.appendChild(docLink);\n",
              "      }\n",
              "    </script>\n",
              "  </div>\n",
              "\n",
              "\n",
              "<div id=\"df-97119163-a89c-464a-90de-a65bf5ea2f0e\">\n",
              "  <button class=\"colab-df-quickchart\" onclick=\"quickchart('df-97119163-a89c-464a-90de-a65bf5ea2f0e')\"\n",
              "            title=\"Suggest charts\"\n",
              "            style=\"display:none;\">\n",
              "\n",
              "<svg xmlns=\"http://www.w3.org/2000/svg\" height=\"24px\"viewBox=\"0 0 24 24\"\n",
              "     width=\"24px\">\n",
              "    <g>\n",
              "        <path d=\"M19 3H5c-1.1 0-2 .9-2 2v14c0 1.1.9 2 2 2h14c1.1 0 2-.9 2-2V5c0-1.1-.9-2-2-2zM9 17H7v-7h2v7zm4 0h-2V7h2v10zm4 0h-2v-4h2v4z\"/>\n",
              "    </g>\n",
              "</svg>\n",
              "  </button>\n",
              "\n",
              "<style>\n",
              "  .colab-df-quickchart {\n",
              "      --bg-color: #E8F0FE;\n",
              "      --fill-color: #1967D2;\n",
              "      --hover-bg-color: #E2EBFA;\n",
              "      --hover-fill-color: #174EA6;\n",
              "      --disabled-fill-color: #AAA;\n",
              "      --disabled-bg-color: #DDD;\n",
              "  }\n",
              "\n",
              "  [theme=dark] .colab-df-quickchart {\n",
              "      --bg-color: #3B4455;\n",
              "      --fill-color: #D2E3FC;\n",
              "      --hover-bg-color: #434B5C;\n",
              "      --hover-fill-color: #FFFFFF;\n",
              "      --disabled-bg-color: #3B4455;\n",
              "      --disabled-fill-color: #666;\n",
              "  }\n",
              "\n",
              "  .colab-df-quickchart {\n",
              "    background-color: var(--bg-color);\n",
              "    border: none;\n",
              "    border-radius: 50%;\n",
              "    cursor: pointer;\n",
              "    display: none;\n",
              "    fill: var(--fill-color);\n",
              "    height: 32px;\n",
              "    padding: 0;\n",
              "    width: 32px;\n",
              "  }\n",
              "\n",
              "  .colab-df-quickchart:hover {\n",
              "    background-color: var(--hover-bg-color);\n",
              "    box-shadow: 0 1px 2px rgba(60, 64, 67, 0.3), 0 1px 3px 1px rgba(60, 64, 67, 0.15);\n",
              "    fill: var(--button-hover-fill-color);\n",
              "  }\n",
              "\n",
              "  .colab-df-quickchart-complete:disabled,\n",
              "  .colab-df-quickchart-complete:disabled:hover {\n",
              "    background-color: var(--disabled-bg-color);\n",
              "    fill: var(--disabled-fill-color);\n",
              "    box-shadow: none;\n",
              "  }\n",
              "\n",
              "  .colab-df-spinner {\n",
              "    border: 2px solid var(--fill-color);\n",
              "    border-color: transparent;\n",
              "    border-bottom-color: var(--fill-color);\n",
              "    animation:\n",
              "      spin 1s steps(1) infinite;\n",
              "  }\n",
              "\n",
              "  @keyframes spin {\n",
              "    0% {\n",
              "      border-color: transparent;\n",
              "      border-bottom-color: var(--fill-color);\n",
              "      border-left-color: var(--fill-color);\n",
              "    }\n",
              "    20% {\n",
              "      border-color: transparent;\n",
              "      border-left-color: var(--fill-color);\n",
              "      border-top-color: var(--fill-color);\n",
              "    }\n",
              "    30% {\n",
              "      border-color: transparent;\n",
              "      border-left-color: var(--fill-color);\n",
              "      border-top-color: var(--fill-color);\n",
              "      border-right-color: var(--fill-color);\n",
              "    }\n",
              "    40% {\n",
              "      border-color: transparent;\n",
              "      border-right-color: var(--fill-color);\n",
              "      border-top-color: var(--fill-color);\n",
              "    }\n",
              "    60% {\n",
              "      border-color: transparent;\n",
              "      border-right-color: var(--fill-color);\n",
              "    }\n",
              "    80% {\n",
              "      border-color: transparent;\n",
              "      border-right-color: var(--fill-color);\n",
              "      border-bottom-color: var(--fill-color);\n",
              "    }\n",
              "    90% {\n",
              "      border-color: transparent;\n",
              "      border-bottom-color: var(--fill-color);\n",
              "    }\n",
              "  }\n",
              "</style>\n",
              "\n",
              "  <script>\n",
              "    async function quickchart(key) {\n",
              "      const quickchartButtonEl =\n",
              "        document.querySelector('#' + key + ' button');\n",
              "      quickchartButtonEl.disabled = true;  // To prevent multiple clicks.\n",
              "      quickchartButtonEl.classList.add('colab-df-spinner');\n",
              "      try {\n",
              "        const charts = await google.colab.kernel.invokeFunction(\n",
              "            'suggestCharts', [key], {});\n",
              "      } catch (error) {\n",
              "        console.error('Error during call to suggestCharts:', error);\n",
              "      }\n",
              "      quickchartButtonEl.classList.remove('colab-df-spinner');\n",
              "      quickchartButtonEl.classList.add('colab-df-quickchart-complete');\n",
              "    }\n",
              "    (() => {\n",
              "      let quickchartButtonEl =\n",
              "        document.querySelector('#df-97119163-a89c-464a-90de-a65bf5ea2f0e button');\n",
              "      quickchartButtonEl.style.display =\n",
              "        google.colab.kernel.accessAllowed ? 'block' : 'none';\n",
              "    })();\n",
              "  </script>\n",
              "</div>\n",
              "\n",
              "    </div>\n",
              "  </div>\n"
            ],
            "text/plain": [
              "   Gender  Married Dependents  Education  Self_Employed  ApplicantIncome  \\\n",
              "0       1        0          0          1              0             5849   \n",
              "1       1        1          1          1              0             4583   \n",
              "2       1        1          0          1              1             3000   \n",
              "3       1        1          0          0              0             2583   \n",
              "4       1        0          0          1              0             6000   \n",
              "\n",
              "   CoapplicantIncome  LoanAmount  Loan_Amount_Term  Credit_History  \\\n",
              "0                0.0       128.0             360.0             1.0   \n",
              "1             1508.0       128.0             360.0             1.0   \n",
              "2                0.0        66.0             360.0             1.0   \n",
              "3             2358.0       120.0             360.0             1.0   \n",
              "4                0.0       141.0             360.0             1.0   \n",
              "\n",
              "   Property_Area  Loan_Status  Income_to_Loan_Ratio  \n",
              "0              2            1             45.341085  \n",
              "1              0            0             35.527132  \n",
              "2              2            1             44.776119  \n",
              "3              2            1             21.347107  \n",
              "4              2            1             42.253521  "
            ]
          },
          "execution_count": 37,
          "metadata": {},
          "output_type": "execute_result"
        }
      ],
      "source": [
        "#new_loan_dataset.drop(['Income_to_Loan_Ratio'],axis=1)\n",
        "new_loan_dataset.head(5)"
      ]
    },
    {
      "cell_type": "markdown",
      "metadata": {
        "id": "kA2lTBNx7vkI"
      },
      "source": [
        "DATA PREPROCESSING"
      ]
    },
    {
      "cell_type": "code",
      "execution_count": null,
      "metadata": {
        "colab": {
          "background_save": true
        },
        "id": "zamqJy7N-9RX",
        "outputId": "26f0ab17-f430-4948-c7c3-ca2b1351a849"
      },
      "outputs": [
        {
          "data": {
            "text/plain": [
              "((614, 12), (614,))"
            ]
          },
          "execution_count": 38,
          "metadata": {},
          "output_type": "execute_result"
        }
      ],
      "source": [
        "#feature selection\n",
        "X = new_loan_dataset.drop('Loan_Status', axis=1)\n",
        "y = new_loan_dataset['Loan_Status']\n",
        "X.shape, y.shape"
      ]
    },
    {
      "cell_type": "code",
      "execution_count": null,
      "metadata": {
        "colab": {
          "background_save": true
        },
        "id": "UuckQIzW-9Li"
      },
      "outputs": [],
      "source": [
        "#normalising the features\n",
        "scaler = StandardScaler()\n",
        "X = scaler.fit_transform(X)\n"
      ]
    },
    {
      "cell_type": "markdown",
      "metadata": {
        "id": "x5QN7xdP2hGm"
      },
      "source": [
        "MODEL BUILDING OF SVM"
      ]
    },
    {
      "cell_type": "code",
      "execution_count": null,
      "metadata": {
        "colab": {
          "background_save": true
        },
        "id": "TqwErlP0-9IH",
        "outputId": "ee444cd1-49ad-48c0-8aa0-8043207d2acc"
      },
      "outputs": [
        {
          "data": {
            "text/plain": [
              "((245, 12), (369, 12), (245,), (369,))"
            ]
          },
          "execution_count": 40,
          "metadata": {},
          "output_type": "execute_result"
        }
      ],
      "source": [
        "#splitting the data into train and test\n",
        "X_train, X_test, y_train, y_test = train_test_split(X, y, test_size=0.6, random_state=42)\n",
        "X_train.shape, X_test.shape, y_train.shape,y_test.shape"
      ]
    },
    {
      "cell_type": "code",
      "execution_count": null,
      "metadata": {
        "colab": {
          "background_save": true
        },
        "id": "trN7SalIK0HT",
        "outputId": "eb2f9a11-a653-415f-cf37-c08f2e8755b2"
      },
      "outputs": [
        {
          "data": {
            "text/plain": [
              "((245, 12), (344, 12), (369, 12))"
            ]
          },
          "execution_count": 41,
          "metadata": {},
          "output_type": "execute_result"
        }
      ],
      "source": [
        "# As the data was highly imbalanced we will balance\n",
        "# it by adding repetitive rows of minority class.\n",
        "ros = RandomOverSampler(sampling_strategy='minority', random_state=42)\n",
        "X, y = ros.fit_resample(X_train, y_train)\n",
        "\n",
        "X_train.shape, X.shape , X_test.shape"
      ]
    },
    {
      "cell_type": "code",
      "execution_count": null,
      "metadata": {
        "colab": {
          "background_save": true
        },
        "id": "NdsvXESlLSEg"
      },
      "outputs": [],
      "source": []
    },
    {
      "cell_type": "code",
      "execution_count": null,
      "metadata": {
        "colab": {
          "background_save": true
        },
        "id": "opPjSPkD3ds0",
        "outputId": "198bae78-dd3d-4055-f41e-7783493ae871"
      },
      "outputs": [
        {
          "data": {
            "text/html": [
              "<style>#sk-container-id-1 {\n",
              "  /* Definition of color scheme common for light and dark mode */\n",
              "  --sklearn-color-text: black;\n",
              "  --sklearn-color-line: gray;\n",
              "  /* Definition of color scheme for unfitted estimators */\n",
              "  --sklearn-color-unfitted-level-0: #fff5e6;\n",
              "  --sklearn-color-unfitted-level-1: #f6e4d2;\n",
              "  --sklearn-color-unfitted-level-2: #ffe0b3;\n",
              "  --sklearn-color-unfitted-level-3: chocolate;\n",
              "  /* Definition of color scheme for fitted estimators */\n",
              "  --sklearn-color-fitted-level-0: #f0f8ff;\n",
              "  --sklearn-color-fitted-level-1: #d4ebff;\n",
              "  --sklearn-color-fitted-level-2: #b3dbfd;\n",
              "  --sklearn-color-fitted-level-3: cornflowerblue;\n",
              "\n",
              "  /* Specific color for light theme */\n",
              "  --sklearn-color-text-on-default-background: var(--sg-text-color, var(--theme-code-foreground, var(--jp-content-font-color1, black)));\n",
              "  --sklearn-color-background: var(--sg-background-color, var(--theme-background, var(--jp-layout-color0, white)));\n",
              "  --sklearn-color-border-box: var(--sg-text-color, var(--theme-code-foreground, var(--jp-content-font-color1, black)));\n",
              "  --sklearn-color-icon: #696969;\n",
              "\n",
              "  @media (prefers-color-scheme: dark) {\n",
              "    /* Redefinition of color scheme for dark theme */\n",
              "    --sklearn-color-text-on-default-background: var(--sg-text-color, var(--theme-code-foreground, var(--jp-content-font-color1, white)));\n",
              "    --sklearn-color-background: var(--sg-background-color, var(--theme-background, var(--jp-layout-color0, #111)));\n",
              "    --sklearn-color-border-box: var(--sg-text-color, var(--theme-code-foreground, var(--jp-content-font-color1, white)));\n",
              "    --sklearn-color-icon: #878787;\n",
              "  }\n",
              "}\n",
              "\n",
              "#sk-container-id-1 {\n",
              "  color: var(--sklearn-color-text);\n",
              "}\n",
              "\n",
              "#sk-container-id-1 pre {\n",
              "  padding: 0;\n",
              "}\n",
              "\n",
              "#sk-container-id-1 input.sk-hidden--visually {\n",
              "  border: 0;\n",
              "  clip: rect(1px 1px 1px 1px);\n",
              "  clip: rect(1px, 1px, 1px, 1px);\n",
              "  height: 1px;\n",
              "  margin: -1px;\n",
              "  overflow: hidden;\n",
              "  padding: 0;\n",
              "  position: absolute;\n",
              "  width: 1px;\n",
              "}\n",
              "\n",
              "#sk-container-id-1 div.sk-dashed-wrapped {\n",
              "  border: 1px dashed var(--sklearn-color-line);\n",
              "  margin: 0 0.4em 0.5em 0.4em;\n",
              "  box-sizing: border-box;\n",
              "  padding-bottom: 0.4em;\n",
              "  background-color: var(--sklearn-color-background);\n",
              "}\n",
              "\n",
              "#sk-container-id-1 div.sk-container {\n",
              "  /* jupyter's `normalize.less` sets `[hidden] { display: none; }`\n",
              "     but bootstrap.min.css set `[hidden] { display: none !important; }`\n",
              "     so we also need the `!important` here to be able to override the\n",
              "     default hidden behavior on the sphinx rendered scikit-learn.org.\n",
              "     See: https://github.com/scikit-learn/scikit-learn/issues/21755 */\n",
              "  display: inline-block !important;\n",
              "  position: relative;\n",
              "}\n",
              "\n",
              "#sk-container-id-1 div.sk-text-repr-fallback {\n",
              "  display: none;\n",
              "}\n",
              "\n",
              "div.sk-parallel-item,\n",
              "div.sk-serial,\n",
              "div.sk-item {\n",
              "  /* draw centered vertical line to link estimators */\n",
              "  background-image: linear-gradient(var(--sklearn-color-text-on-default-background), var(--sklearn-color-text-on-default-background));\n",
              "  background-size: 2px 100%;\n",
              "  background-repeat: no-repeat;\n",
              "  background-position: center center;\n",
              "}\n",
              "\n",
              "/* Parallel-specific style estimator block */\n",
              "\n",
              "#sk-container-id-1 div.sk-parallel-item::after {\n",
              "  content: \"\";\n",
              "  width: 100%;\n",
              "  border-bottom: 2px solid var(--sklearn-color-text-on-default-background);\n",
              "  flex-grow: 1;\n",
              "}\n",
              "\n",
              "#sk-container-id-1 div.sk-parallel {\n",
              "  display: flex;\n",
              "  align-items: stretch;\n",
              "  justify-content: center;\n",
              "  background-color: var(--sklearn-color-background);\n",
              "  position: relative;\n",
              "}\n",
              "\n",
              "#sk-container-id-1 div.sk-parallel-item {\n",
              "  display: flex;\n",
              "  flex-direction: column;\n",
              "}\n",
              "\n",
              "#sk-container-id-1 div.sk-parallel-item:first-child::after {\n",
              "  align-self: flex-end;\n",
              "  width: 50%;\n",
              "}\n",
              "\n",
              "#sk-container-id-1 div.sk-parallel-item:last-child::after {\n",
              "  align-self: flex-start;\n",
              "  width: 50%;\n",
              "}\n",
              "\n",
              "#sk-container-id-1 div.sk-parallel-item:only-child::after {\n",
              "  width: 0;\n",
              "}\n",
              "\n",
              "/* Serial-specific style estimator block */\n",
              "\n",
              "#sk-container-id-1 div.sk-serial {\n",
              "  display: flex;\n",
              "  flex-direction: column;\n",
              "  align-items: center;\n",
              "  background-color: var(--sklearn-color-background);\n",
              "  padding-right: 1em;\n",
              "  padding-left: 1em;\n",
              "}\n",
              "\n",
              "\n",
              "/* Toggleable style: style used for estimator/Pipeline/ColumnTransformer box that is\n",
              "clickable and can be expanded/collapsed.\n",
              "- Pipeline and ColumnTransformer use this feature and define the default style\n",
              "- Estimators will overwrite some part of the style using the `sk-estimator` class\n",
              "*/\n",
              "\n",
              "/* Pipeline and ColumnTransformer style (default) */\n",
              "\n",
              "#sk-container-id-1 div.sk-toggleable {\n",
              "  /* Default theme specific background. It is overwritten whether we have a\n",
              "  specific estimator or a Pipeline/ColumnTransformer */\n",
              "  background-color: var(--sklearn-color-background);\n",
              "}\n",
              "\n",
              "/* Toggleable label */\n",
              "#sk-container-id-1 label.sk-toggleable__label {\n",
              "  cursor: pointer;\n",
              "  display: block;\n",
              "  width: 100%;\n",
              "  margin-bottom: 0;\n",
              "  padding: 0.5em;\n",
              "  box-sizing: border-box;\n",
              "  text-align: center;\n",
              "}\n",
              "\n",
              "#sk-container-id-1 label.sk-toggleable__label-arrow:before {\n",
              "  /* Arrow on the left of the label */\n",
              "  content: \"▸\";\n",
              "  float: left;\n",
              "  margin-right: 0.25em;\n",
              "  color: var(--sklearn-color-icon);\n",
              "}\n",
              "\n",
              "#sk-container-id-1 label.sk-toggleable__label-arrow:hover:before {\n",
              "  color: var(--sklearn-color-text);\n",
              "}\n",
              "\n",
              "/* Toggleable content - dropdown */\n",
              "\n",
              "#sk-container-id-1 div.sk-toggleable__content {\n",
              "  max-height: 0;\n",
              "  max-width: 0;\n",
              "  overflow: hidden;\n",
              "  text-align: left;\n",
              "  /* unfitted */\n",
              "  background-color: var(--sklearn-color-unfitted-level-0);\n",
              "}\n",
              "\n",
              "#sk-container-id-1 div.sk-toggleable__content.fitted {\n",
              "  /* fitted */\n",
              "  background-color: var(--sklearn-color-fitted-level-0);\n",
              "}\n",
              "\n",
              "#sk-container-id-1 div.sk-toggleable__content pre {\n",
              "  margin: 0.2em;\n",
              "  border-radius: 0.25em;\n",
              "  color: var(--sklearn-color-text);\n",
              "  /* unfitted */\n",
              "  background-color: var(--sklearn-color-unfitted-level-0);\n",
              "}\n",
              "\n",
              "#sk-container-id-1 div.sk-toggleable__content.fitted pre {\n",
              "  /* unfitted */\n",
              "  background-color: var(--sklearn-color-fitted-level-0);\n",
              "}\n",
              "\n",
              "#sk-container-id-1 input.sk-toggleable__control:checked~div.sk-toggleable__content {\n",
              "  /* Expand drop-down */\n",
              "  max-height: 200px;\n",
              "  max-width: 100%;\n",
              "  overflow: auto;\n",
              "}\n",
              "\n",
              "#sk-container-id-1 input.sk-toggleable__control:checked~label.sk-toggleable__label-arrow:before {\n",
              "  content: \"▾\";\n",
              "}\n",
              "\n",
              "/* Pipeline/ColumnTransformer-specific style */\n",
              "\n",
              "#sk-container-id-1 div.sk-label input.sk-toggleable__control:checked~label.sk-toggleable__label {\n",
              "  color: var(--sklearn-color-text);\n",
              "  background-color: var(--sklearn-color-unfitted-level-2);\n",
              "}\n",
              "\n",
              "#sk-container-id-1 div.sk-label.fitted input.sk-toggleable__control:checked~label.sk-toggleable__label {\n",
              "  background-color: var(--sklearn-color-fitted-level-2);\n",
              "}\n",
              "\n",
              "/* Estimator-specific style */\n",
              "\n",
              "/* Colorize estimator box */\n",
              "#sk-container-id-1 div.sk-estimator input.sk-toggleable__control:checked~label.sk-toggleable__label {\n",
              "  /* unfitted */\n",
              "  background-color: var(--sklearn-color-unfitted-level-2);\n",
              "}\n",
              "\n",
              "#sk-container-id-1 div.sk-estimator.fitted input.sk-toggleable__control:checked~label.sk-toggleable__label {\n",
              "  /* fitted */\n",
              "  background-color: var(--sklearn-color-fitted-level-2);\n",
              "}\n",
              "\n",
              "#sk-container-id-1 div.sk-label label.sk-toggleable__label,\n",
              "#sk-container-id-1 div.sk-label label {\n",
              "  /* The background is the default theme color */\n",
              "  color: var(--sklearn-color-text-on-default-background);\n",
              "}\n",
              "\n",
              "/* On hover, darken the color of the background */\n",
              "#sk-container-id-1 div.sk-label:hover label.sk-toggleable__label {\n",
              "  color: var(--sklearn-color-text);\n",
              "  background-color: var(--sklearn-color-unfitted-level-2);\n",
              "}\n",
              "\n",
              "/* Label box, darken color on hover, fitted */\n",
              "#sk-container-id-1 div.sk-label.fitted:hover label.sk-toggleable__label.fitted {\n",
              "  color: var(--sklearn-color-text);\n",
              "  background-color: var(--sklearn-color-fitted-level-2);\n",
              "}\n",
              "\n",
              "/* Estimator label */\n",
              "\n",
              "#sk-container-id-1 div.sk-label label {\n",
              "  font-family: monospace;\n",
              "  font-weight: bold;\n",
              "  display: inline-block;\n",
              "  line-height: 1.2em;\n",
              "}\n",
              "\n",
              "#sk-container-id-1 div.sk-label-container {\n",
              "  text-align: center;\n",
              "}\n",
              "\n",
              "/* Estimator-specific */\n",
              "#sk-container-id-1 div.sk-estimator {\n",
              "  font-family: monospace;\n",
              "  border: 1px dotted var(--sklearn-color-border-box);\n",
              "  border-radius: 0.25em;\n",
              "  box-sizing: border-box;\n",
              "  margin-bottom: 0.5em;\n",
              "  /* unfitted */\n",
              "  background-color: var(--sklearn-color-unfitted-level-0);\n",
              "}\n",
              "\n",
              "#sk-container-id-1 div.sk-estimator.fitted {\n",
              "  /* fitted */\n",
              "  background-color: var(--sklearn-color-fitted-level-0);\n",
              "}\n",
              "\n",
              "/* on hover */\n",
              "#sk-container-id-1 div.sk-estimator:hover {\n",
              "  /* unfitted */\n",
              "  background-color: var(--sklearn-color-unfitted-level-2);\n",
              "}\n",
              "\n",
              "#sk-container-id-1 div.sk-estimator.fitted:hover {\n",
              "  /* fitted */\n",
              "  background-color: var(--sklearn-color-fitted-level-2);\n",
              "}\n",
              "\n",
              "/* Specification for estimator info (e.g. \"i\" and \"?\") */\n",
              "\n",
              "/* Common style for \"i\" and \"?\" */\n",
              "\n",
              ".sk-estimator-doc-link,\n",
              "a:link.sk-estimator-doc-link,\n",
              "a:visited.sk-estimator-doc-link {\n",
              "  float: right;\n",
              "  font-size: smaller;\n",
              "  line-height: 1em;\n",
              "  font-family: monospace;\n",
              "  background-color: var(--sklearn-color-background);\n",
              "  border-radius: 1em;\n",
              "  height: 1em;\n",
              "  width: 1em;\n",
              "  text-decoration: none !important;\n",
              "  margin-left: 1ex;\n",
              "  /* unfitted */\n",
              "  border: var(--sklearn-color-unfitted-level-1) 1pt solid;\n",
              "  color: var(--sklearn-color-unfitted-level-1);\n",
              "}\n",
              "\n",
              ".sk-estimator-doc-link.fitted,\n",
              "a:link.sk-estimator-doc-link.fitted,\n",
              "a:visited.sk-estimator-doc-link.fitted {\n",
              "  /* fitted */\n",
              "  border: var(--sklearn-color-fitted-level-1) 1pt solid;\n",
              "  color: var(--sklearn-color-fitted-level-1);\n",
              "}\n",
              "\n",
              "/* On hover */\n",
              "div.sk-estimator:hover .sk-estimator-doc-link:hover,\n",
              ".sk-estimator-doc-link:hover,\n",
              "div.sk-label-container:hover .sk-estimator-doc-link:hover,\n",
              ".sk-estimator-doc-link:hover {\n",
              "  /* unfitted */\n",
              "  background-color: var(--sklearn-color-unfitted-level-3);\n",
              "  color: var(--sklearn-color-background);\n",
              "  text-decoration: none;\n",
              "}\n",
              "\n",
              "div.sk-estimator.fitted:hover .sk-estimator-doc-link.fitted:hover,\n",
              ".sk-estimator-doc-link.fitted:hover,\n",
              "div.sk-label-container:hover .sk-estimator-doc-link.fitted:hover,\n",
              ".sk-estimator-doc-link.fitted:hover {\n",
              "  /* fitted */\n",
              "  background-color: var(--sklearn-color-fitted-level-3);\n",
              "  color: var(--sklearn-color-background);\n",
              "  text-decoration: none;\n",
              "}\n",
              "\n",
              "/* Span, style for the box shown on hovering the info icon */\n",
              ".sk-estimator-doc-link span {\n",
              "  display: none;\n",
              "  z-index: 9999;\n",
              "  position: relative;\n",
              "  font-weight: normal;\n",
              "  right: .2ex;\n",
              "  padding: .5ex;\n",
              "  margin: .5ex;\n",
              "  width: min-content;\n",
              "  min-width: 20ex;\n",
              "  max-width: 50ex;\n",
              "  color: var(--sklearn-color-text);\n",
              "  box-shadow: 2pt 2pt 4pt #999;\n",
              "  /* unfitted */\n",
              "  background: var(--sklearn-color-unfitted-level-0);\n",
              "  border: .5pt solid var(--sklearn-color-unfitted-level-3);\n",
              "}\n",
              "\n",
              ".sk-estimator-doc-link.fitted span {\n",
              "  /* fitted */\n",
              "  background: var(--sklearn-color-fitted-level-0);\n",
              "  border: var(--sklearn-color-fitted-level-3);\n",
              "}\n",
              "\n",
              ".sk-estimator-doc-link:hover span {\n",
              "  display: block;\n",
              "}\n",
              "\n",
              "/* \"?\"-specific style due to the `<a>` HTML tag */\n",
              "\n",
              "#sk-container-id-1 a.estimator_doc_link {\n",
              "  float: right;\n",
              "  font-size: 1rem;\n",
              "  line-height: 1em;\n",
              "  font-family: monospace;\n",
              "  background-color: var(--sklearn-color-background);\n",
              "  border-radius: 1rem;\n",
              "  height: 1rem;\n",
              "  width: 1rem;\n",
              "  text-decoration: none;\n",
              "  /* unfitted */\n",
              "  color: var(--sklearn-color-unfitted-level-1);\n",
              "  border: var(--sklearn-color-unfitted-level-1) 1pt solid;\n",
              "}\n",
              "\n",
              "#sk-container-id-1 a.estimator_doc_link.fitted {\n",
              "  /* fitted */\n",
              "  border: var(--sklearn-color-fitted-level-1) 1pt solid;\n",
              "  color: var(--sklearn-color-fitted-level-1);\n",
              "}\n",
              "\n",
              "/* On hover */\n",
              "#sk-container-id-1 a.estimator_doc_link:hover {\n",
              "  /* unfitted */\n",
              "  background-color: var(--sklearn-color-unfitted-level-3);\n",
              "  color: var(--sklearn-color-background);\n",
              "  text-decoration: none;\n",
              "}\n",
              "\n",
              "#sk-container-id-1 a.estimator_doc_link.fitted:hover {\n",
              "  /* fitted */\n",
              "  background-color: var(--sklearn-color-fitted-level-3);\n",
              "}\n",
              "</style><div id=\"sk-container-id-1\" class=\"sk-top-container\"><div class=\"sk-text-repr-fallback\"><pre>SVC(random_state=42)</pre><b>In a Jupyter environment, please rerun this cell to show the HTML representation or trust the notebook. <br />On GitHub, the HTML representation is unable to render, please try loading this page with nbviewer.org.</b></div><div class=\"sk-container\" hidden><div class=\"sk-item\"><div class=\"sk-estimator fitted sk-toggleable\"><input class=\"sk-toggleable__control sk-hidden--visually\" id=\"sk-estimator-id-1\" type=\"checkbox\" checked><label for=\"sk-estimator-id-1\" class=\"sk-toggleable__label fitted sk-toggleable__label-arrow fitted\">&nbsp;&nbsp;SVC<a class=\"sk-estimator-doc-link fitted\" rel=\"noreferrer\" target=\"_blank\" href=\"https://scikit-learn.org/1.5/modules/generated/sklearn.svm.SVC.html\">?<span>Documentation for SVC</span></a><span class=\"sk-estimator-doc-link fitted\">i<span>Fitted</span></span></label><div class=\"sk-toggleable__content fitted\"><pre>SVC(random_state=42)</pre></div> </div></div></div></div>"
            ],
            "text/plain": [
              "SVC(random_state=42)"
            ]
          },
          "execution_count": 42,
          "metadata": {},
          "output_type": "execute_result"
        }
      ],
      "source": [
        "#train the model using the training dataset\n",
        "# Initialize SVM with default parameters\n",
        "svm_classifier = SVC(kernel='rbf', random_state=42)\n",
        "svm_classifier.fit(X_train, y_train)\n"
      ]
    },
    {
      "cell_type": "markdown",
      "metadata": {
        "id": "Spx55YtP8Jio"
      },
      "source": [
        "MODEL EVALUATION"
      ]
    },
    {
      "cell_type": "code",
      "execution_count": null,
      "metadata": {
        "colab": {
          "background_save": true
        },
        "id": "Do0LN21g6YXe",
        "outputId": "36eb9303-3d5f-443b-f39b-594c1083fb40"
      },
      "outputs": [
        {
          "data": {
            "text/plain": [
              "(369,)"
            ]
          },
          "execution_count": 43,
          "metadata": {},
          "output_type": "execute_result"
        }
      ],
      "source": [
        "#predict the target label of the test dataset\n",
        "y_pred = svm_classifier.predict(X_test)\n",
        "\n",
        "y_pred.shape"
      ]
    },
    {
      "cell_type": "code",
      "execution_count": null,
      "metadata": {
        "colab": {
          "background_save": true
        },
        "id": "ZOeCn7rN6YN3",
        "outputId": "41368c47-ef94-424a-c019-17cd83673f83"
      },
      "outputs": [
        {
          "data": {
            "text/plain": [
              "array([1, 1, 1, 1, 1, 1, 1, 1, 1, 1, 0, 1, 1, 1, 1, 1, 1, 1, 1, 1])"
            ]
          },
          "execution_count": 44,
          "metadata": {},
          "output_type": "execute_result"
        }
      ],
      "source": [
        "#to print 20 labels out of 123 of y_pred\n",
        "y_pred[0:20]"
      ]
    },
    {
      "cell_type": "code",
      "execution_count": null,
      "metadata": {
        "colab": {
          "background_save": true
        },
        "id": "XpsbHqop8cIb",
        "outputId": "327c0d2e-dc65-4215-ef3c-fb5018147aa4"
      },
      "outputs": [
        {
          "data": {
            "text/html": [
              "<div>\n",
              "<style scoped>\n",
              "    .dataframe tbody tr th:only-of-type {\n",
              "        vertical-align: middle;\n",
              "    }\n",
              "\n",
              "    .dataframe tbody tr th {\n",
              "        vertical-align: top;\n",
              "    }\n",
              "\n",
              "    .dataframe thead th {\n",
              "        text-align: right;\n",
              "    }\n",
              "</style>\n",
              "<table border=\"1\" class=\"dataframe\">\n",
              "  <thead>\n",
              "    <tr style=\"text-align: right;\">\n",
              "      <th></th>\n",
              "      <th>Loan_Status</th>\n",
              "    </tr>\n",
              "  </thead>\n",
              "  <tbody>\n",
              "    <tr>\n",
              "      <th>350</th>\n",
              "      <td>1</td>\n",
              "    </tr>\n",
              "    <tr>\n",
              "      <th>377</th>\n",
              "      <td>1</td>\n",
              "    </tr>\n",
              "    <tr>\n",
              "      <th>163</th>\n",
              "      <td>1</td>\n",
              "    </tr>\n",
              "    <tr>\n",
              "      <th>609</th>\n",
              "      <td>1</td>\n",
              "    </tr>\n",
              "    <tr>\n",
              "      <th>132</th>\n",
              "      <td>1</td>\n",
              "    </tr>\n",
              "    <tr>\n",
              "      <th>578</th>\n",
              "      <td>1</td>\n",
              "    </tr>\n",
              "    <tr>\n",
              "      <th>316</th>\n",
              "      <td>1</td>\n",
              "    </tr>\n",
              "    <tr>\n",
              "      <th>2</th>\n",
              "      <td>1</td>\n",
              "    </tr>\n",
              "    <tr>\n",
              "      <th>340</th>\n",
              "      <td>0</td>\n",
              "    </tr>\n",
              "    <tr>\n",
              "      <th>77</th>\n",
              "      <td>0</td>\n",
              "    </tr>\n",
              "    <tr>\n",
              "      <th>218</th>\n",
              "      <td>0</td>\n",
              "    </tr>\n",
              "    <tr>\n",
              "      <th>462</th>\n",
              "      <td>1</td>\n",
              "    </tr>\n",
              "    <tr>\n",
              "      <th>109</th>\n",
              "      <td>1</td>\n",
              "    </tr>\n",
              "    <tr>\n",
              "      <th>322</th>\n",
              "      <td>1</td>\n",
              "    </tr>\n",
              "    <tr>\n",
              "      <th>137</th>\n",
              "      <td>1</td>\n",
              "    </tr>\n",
              "    <tr>\n",
              "      <th>363</th>\n",
              "      <td>1</td>\n",
              "    </tr>\n",
              "    <tr>\n",
              "      <th>208</th>\n",
              "      <td>1</td>\n",
              "    </tr>\n",
              "    <tr>\n",
              "      <th>101</th>\n",
              "      <td>1</td>\n",
              "    </tr>\n",
              "    <tr>\n",
              "      <th>234</th>\n",
              "      <td>1</td>\n",
              "    </tr>\n",
              "    <tr>\n",
              "      <th>182</th>\n",
              "      <td>1</td>\n",
              "    </tr>\n",
              "  </tbody>\n",
              "</table>\n",
              "</div><br><label><b>dtype:</b> int64</label>"
            ],
            "text/plain": [
              "350    1\n",
              "377    1\n",
              "163    1\n",
              "609    1\n",
              "132    1\n",
              "578    1\n",
              "316    1\n",
              "2      1\n",
              "340    0\n",
              "77     0\n",
              "218    0\n",
              "462    1\n",
              "109    1\n",
              "322    1\n",
              "137    1\n",
              "363    1\n",
              "208    1\n",
              "101    1\n",
              "234    1\n",
              "182    1\n",
              "Name: Loan_Status, dtype: int64"
            ]
          },
          "execution_count": 45,
          "metadata": {},
          "output_type": "execute_result"
        }
      ],
      "source": [
        "#to print 20 labels out of 123 of y_pred and for y_test\n",
        "y_test[0:20]"
      ]
    },
    {
      "cell_type": "markdown",
      "metadata": {
        "id": "BMQv0VjABaqD"
      },
      "source": [
        "now predicting the score and evaluating it in initial"
      ]
    },
    {
      "cell_type": "code",
      "execution_count": null,
      "metadata": {
        "colab": {
          "background_save": true
        },
        "id": "0l6XTuXM8kna",
        "outputId": "5a8bb6de-b9c9-43dd-a3f8-08227696f580"
      },
      "outputs": [
        {
          "data": {
            "text/plain": [
              "0.8285714285714286"
            ]
          },
          "execution_count": 46,
          "metadata": {},
          "output_type": "execute_result"
        }
      ],
      "source": [
        "#score of training dataset\n",
        "svm_classifier.score(X_train,y_train)"
      ]
    },
    {
      "cell_type": "markdown",
      "metadata": {
        "id": "-5bgNJ2W_0FM"
      },
      "source": [
        "the accuracy of training dataset is 82.85%"
      ]
    },
    {
      "cell_type": "code",
      "execution_count": null,
      "metadata": {
        "colab": {
          "background_save": true
        },
        "id": "B0occSRY-QhR",
        "outputId": "ce44cfc1-a08b-44c7-b606-803abc140702"
      },
      "outputs": [
        {
          "data": {
            "text/plain": [
              "0.8157181571815718"
            ]
          },
          "execution_count": 47,
          "metadata": {},
          "output_type": "execute_result"
        }
      ],
      "source": [
        "#score of testing dataset\n",
        "svm_classifier.score(X_test,y_test)"
      ]
    },
    {
      "cell_type": "markdown",
      "metadata": {
        "id": "tBorYbwF_6x1"
      },
      "source": [
        "the accuracy of testing dataset is 81.57%"
      ]
    },
    {
      "cell_type": "code",
      "execution_count": null,
      "metadata": {
        "colab": {
          "background_save": true
        },
        "id": "zOqUo_riF592",
        "outputId": "9b9a786b-c0ca-4eef-e72f-bfe750aa67a7"
      },
      "outputs": [
        {
          "data": {
            "image/png": "[encoded data removed]",
            "text/plain": [
              "<Figure size 300x300 with 1 Axes>"
            ]
          },
          "metadata": {},
          "output_type": "display_data"
        }
      ],
      "source": [
        "#plotting the confusion matrix\n",
        "cm = confusion_matrix(y_test, svm_classifier.predict(X_test))\n",
        "\n",
        "# Plot the confusion matrix\n",
        "plt.figure(figsize=(3, 3))\n",
        "sb.heatmap(cm, annot=True, fmt='d', cmap='Blues', cbar=False)\n",
        "plt.title('Confusion Matrix SVM')\n",
        "plt.xlabel('Predicted Value')\n",
        "plt.ylabel('True Value')\n",
        "plt.show()"
      ]
    },
    {
      "cell_type": "code",
      "execution_count": null,
      "metadata": {
        "id": "NPYK2D-EGODo"
      },
      "outputs": [],
      "source": [
        "#calculating the accuracy,recall,precision and F1 score by using the score()method\n",
        "from sklearn.metrics import accuracy_score, recall_score, precision_score,f1_score,classification_report, confusion_matrix\n",
        "print(\"The initial performance is:\")\n",
        "print(\"the accuracy is:\", accuracy_score(y_test,y_pred))\n",
        "print(\"the recall score is:\", recall_score(y_test,y_pred))\n",
        "print(\"the precision score is:\", precision_score(y_test,y_pred))\n",
        "print(\"the F1 score is:\", f1_score(y_test,y_pred))"
      ]
    },
    {
      "cell_type": "markdown",
      "metadata": {
        "id": "FeWOLTQ4K0pT"
      },
      "source": [
        "  ploting the ROC and AUC using the **roc_curve** and **auc functions** from sklearn.metrics"
      ]
    },
    {
      "cell_type": "code",
      "execution_count": null,
      "metadata": {
        "id": "3EHAEFQ-J2O6"
      },
      "outputs": [],
      "source": [
        "import matplotlib.pyplot as plt\n",
        "from sklearn.metrics import roc_curve, auc\n",
        "\n",
        "# Generate predicted probabilities for the positive class (class 1)\n",
        "Y_pred_prob = svm_classifier.decision_function(X_test)  # For SVM, use decision_function\n",
        "\n",
        "# Calculate FPR, TPR, and threshold values\n",
        "fpr, tpr, thresholds = roc_curve(y_test, Y_pred_prob)\n",
        "\n",
        "# Calculate AUC score\n",
        "roc_auc = auc(fpr, tpr)\n",
        "\n",
        "# Plot the ROC curve\n",
        "plt.figure(figsize=(8, 6))\n",
        "plt.plot(fpr, tpr, color='blue', label=f'ROC curve (AUC = {roc_auc:.2f})')\n",
        "plt.plot([0, 1], [0, 1], color='gray', linestyle='--')  # Diagonal line (no skill)\n",
        "plt.xlim([0.0, 1.0])\n",
        "plt.ylim([0.0, 1.05])\n",
        "plt.xlabel('False Positive Rate')\n",
        "plt.ylabel('True Positive Rate')\n",
        "plt.title('Receiver Operating Characteristic (ROC) Curve of SVM')\n",
        "plt.legend(loc=\"lower right\")\n",
        "plt.show()\n",
        "\n",
        "#explanation\n",
        "#roc_curve(y_test, Y_pred_prob): Calculates the FPR, TPR, and thresholds.\n",
        "#auc(fpr, tpr): Computes the area under the ROC curve.\n",
        "#Diagonal line ([0, 1], [0, 1]): Represents a model with no discrimination (AUC = 0.5).\n",
        "#Key Points:\n",
        "#AUC ranges from 0.5 (random performance) to 1 (perfect classifier).\n",
        "#The closer the curve follows the top-left edge, the better the model’s performance."
      ]
    },
    {
      "cell_type": "markdown",
      "metadata": {
        "id": "0OyKHLCULr47"
      },
      "source": [
        "Interpretation of the Model Performance\n",
        "AUC Score of 0.75:\n",
        "\n",
        "An AUC score of 0.75 indicates that the model performs moderately well in distinguishing between the approved and non-approved classes.\n",
        "\n",
        "An AUC above 0.75 suggests that the model has some predictive capability but is not highly accurate or optimal.\n",
        "\n",
        "\n",
        "This score suggests that the model is better than random guessing but still has room for improvement.\n",
        "ROC Curve Shape:\n",
        "\n",
        "The ROC curve’s shape shows a gradual rise, indicating that the model has an acceptable balance between sensitivity (True Positive Rate) and specificity (False Positive Rate) but could be further optimized to improve performance.\n",
        "\n",
        "Conclusion\n",
        "\n",
        "Moderate Performance: With an AUC of 0.75, the model is moderately effective, but it could benefit from improvements such as feature engineering, hyperparameter tuning, or trying other models (e.g., Random Forest, Gradient Boosting) for potentially better results.\n",
        "\n",
        "Room for Improvement: This level of AUC might be acceptable for some applications but may need enhancement for critical financial applications like loan approvals, where accuracy is crucial.\n",
        "\n",
        "Overall, while the model shows reasonable performance, further optimization could make it more reliable."
      ]
    },
    {
      "cell_type": "markdown",
      "metadata": {
        "id": "63lJQudHNn5F"
      },
      "source": [
        "NOW USING THE **LOGISTIC REGRESSION MODEL** FOR THE DATASET AND THEN EVALUATING THE PERFORMANCE"
      ]
    },
    {
      "cell_type": "code",
      "execution_count": null,
      "metadata": {
        "id": "N2ePaNWBUz60"
      },
      "outputs": [],
      "source": [
        "#importing the nessccesary modules\n",
        "from sklearn.linear_model import LogisticRegression"
      ]
    },
    {
      "cell_type": "code",
      "execution_count": null,
      "metadata": {
        "id": "P8AR1z7fRKE1"
      },
      "outputs": [],
      "source": [
        "#since dataset is already split into traning and testing\n",
        "\n",
        "#train the model using the training dataset\n",
        "\n",
        "# Initialize LogisticRegression with default parametrs\n",
        "logistic_classifier = LogisticRegression(penalty='l2', dual=False, tol=0.0001,\n",
        "                                         C=1.0, fit_intercept=True, intercept_scaling=1,\n",
        "                                         class_weight=None, random_state=None, solver='lbfgs', max_iter=100,\n",
        "                                         multi_class='deprecated', verbose=0, warm_start=False, n_jobs=None,\n",
        "                                         l1_ratio=None)\n",
        "\n",
        "# Train the model\n",
        "logistic_classifier.fit(X_train, y_train)"
      ]
    },
    {
      "cell_type": "markdown",
      "metadata": {
        "id": "uMZdhfMYWGFg"
      },
      "source": [
        "**Model Evaluation**"
      ]
    },
    {
      "cell_type": "code",
      "execution_count": null,
      "metadata": {
        "id": "PWy3U3WAVq5j"
      },
      "outputs": [],
      "source": [
        "#now Assessing  the performance of the trained model\n",
        "#Generating predictions on the test set.\n",
        "\n",
        "\n",
        "y_pred1 = logistic_classifier.predict(X_test)"
      ]
    },
    {
      "cell_type": "code",
      "execution_count": null,
      "metadata": {
        "id": "wNPzck2uVq2m"
      },
      "outputs": [],
      "source": [
        "#to print 20 labels out of 123 of y_pred1\n",
        "y_pred1[0:20]"
      ]
    },
    {
      "cell_type": "code",
      "execution_count": null,
      "metadata": {
        "id": "XcUHtXSMVqzj"
      },
      "outputs": [],
      "source": [
        "#to print 20 labels out of 123 of y_pred and for y_test\n",
        "y_test[0:20]"
      ]
    },
    {
      "cell_type": "markdown",
      "metadata": {
        "id": "9dFqUZ2WW0x9"
      },
      "source": [
        "now predicting the score and evaluating it\n",
        "\n",
        "\n"
      ]
    },
    {
      "cell_type": "code",
      "execution_count": null,
      "metadata": {
        "id": "nNa-0s6BWtqU"
      },
      "outputs": [],
      "source": [
        "logistic_classifier.score(X_train,y_train)"
      ]
    },
    {
      "cell_type": "markdown",
      "metadata": {
        "id": "oNPLJs91jl-m"
      },
      "source": [
        "the accuracy of training data is 80.40%"
      ]
    },
    {
      "cell_type": "code",
      "execution_count": null,
      "metadata": {
        "id": "yVA6HLtWWtmc"
      },
      "outputs": [],
      "source": [
        "logistic_classifier.score(X_test,y_test)"
      ]
    },
    {
      "cell_type": "markdown",
      "metadata": {
        "id": "dIPECE18jtT8"
      },
      "source": [
        "the accuracy of testing data is 81.03%"
      ]
    },
    {
      "cell_type": "code",
      "execution_count": null,
      "metadata": {
        "id": "RkRfTE2AWti9"
      },
      "outputs": [],
      "source": [
        "#plotting the confusion matrix\n",
        "cm1 = confusion_matrix(y_test, logistic_classifier.predict(X_test))\n",
        "\n",
        "# Plot the confusion matrix\n",
        "plt.figure(figsize=(3, 3))\n",
        "sb.heatmap(cm1, annot=True, fmt='d', cmap='Blues', cbar=False)\n",
        "plt.title('Confusion Matrix Logistic')\n",
        "plt.xlabel('Predicted Value')\n",
        "plt.ylabel('True Value')\n",
        "plt.show()"
      ]
    },
    {
      "cell_type": "code",
      "execution_count": null,
      "metadata": {
        "id": "8rid0tDTWtfA"
      },
      "outputs": [],
      "source": [
        "#calculating the accuracy,recall,precision and F1 score by using the score()method\n",
        "from sklearn.metrics import accuracy_score, recall_score, precision_score,f1_score,classification_report, confusion_matrix\n",
        "print(\"The initial performance is:\")\n",
        "print(\"the accuracy is:\", accuracy_score(y_test,y_pred1))\n",
        "print(\"the recall score is:\", recall_score(y_test,y_pred1))\n",
        "print(\"the precision score is:\", precision_score(y_test,y_pred1))\n",
        "print(\"the F1 score is:\", f1_score(y_test,y_pred1))"
      ]
    },
    {
      "cell_type": "code",
      "execution_count": null,
      "metadata": {
        "id": "EPuA6Rm4zbYD"
      },
      "outputs": [],
      "source": [
        "#plotting AUC\n",
        "import matplotlib.pyplot as plt\n",
        "from sklearn.metrics import roc_curve, auc\n",
        "\n",
        "# Generate predicted probabilities for the positive class (class 1)\n",
        "Y_pred_prob1 = logistic_classifier.predict_proba(X_test)[:, 1]  # Select only the second column# For SVM, use decision_function\n",
        "\n",
        "# Calculate FPR, TPR, and threshold values\n",
        "fpr, tpr, thresholds = roc_curve(y_test, Y_pred_prob1)\n",
        "\n",
        "# Calculate AUC score\n",
        "roc_auc = auc(fpr, tpr)\n",
        "\n",
        "# Plot the ROC curve\n",
        "plt.figure(figsize=(8, 6))\n",
        "plt.plot(fpr, tpr, color='blue', label=f'ROC curve (AUC = {roc_auc:.2f})')\n",
        "plt.plot([0, 1], [0, 1], color='gray', linestyle='--')  # Diagonal line (no skill)\n",
        "plt.xlim([0.0, 1.0])\n",
        "plt.ylim([0.0, 1.05])\n",
        "plt.xlabel('False Positive Rate')\n",
        "plt.ylabel('True Positive Rate')\n",
        "plt.title('Receiver Operating Characteristic (ROC) Curve Logistic')\n",
        "plt.legend(loc=\"lower right\")\n",
        "plt.show()"
      ]
    },
    {
      "cell_type": "markdown",
      "metadata": {
        "id": "E8kh60gdj7mj"
      },
      "source": [
        "the AUC is 0.72 meaning the accuracy and reliability is good"
      ]
    },
    {
      "cell_type": "markdown",
      "metadata": {
        "id": "1fLjPcUue8OQ"
      },
      "source": [
        "**DESCISION TREE**"
      ]
    },
    {
      "cell_type": "code",
      "execution_count": null,
      "metadata": {
        "id": "B2ho059Ue7q-"
      },
      "outputs": [],
      "source": [
        "from sklearn.tree import DecisionTreeClassifier"
      ]
    },
    {
      "cell_type": "code",
      "execution_count": null,
      "metadata": {
        "id": "pzkICU7qfOWJ"
      },
      "outputs": [],
      "source": [
        "# Define Features and Target\n",
        "X = new_loan_dataset.drop('Loan_Status', axis=1)\n",
        "y = new_loan_dataset['Loan_Status']\n",
        "\n",
        "# List of Features\n",
        "print(X.columns)"
      ]
    },
    {
      "cell_type": "code",
      "execution_count": null,
      "metadata": {
        "id": "RgXSlSdjf2ME"
      },
      "outputs": [],
      "source": [
        "# Initialize StandardScaler\n",
        "scaler = StandardScaler()\n",
        "\n",
        "# Fit and Transform the Features\n",
        "X_scaled = scaler.fit_transform(X)\n",
        "\n",
        "# Convert Scaled Features back to DataFrame for easier handling\n",
        "X_scaled = pd.DataFrame(X_scaled, columns=X.columns)\n",
        "\n",
        "# Verify Scaling\n",
        "print(X_scaled.head())"
      ]
    },
    {
      "cell_type": "code",
      "execution_count": null,
      "metadata": {
        "id": "zlTiIuk1gBNe"
      },
      "outputs": [],
      "source": [
        "X_train1, X_test1, y_train1, y_test1 = train_test_split(X_scaled, y, test_size=0.99, random_state=42)\n",
        "X_train1.shape, X_test1.shape, y_train1.shape, y_test1.shape"
      ]
    },
    {
      "cell_type": "code",
      "execution_count": null,
      "metadata": {
        "id": "f7SkVO2cgP6D"
      },
      "outputs": [],
      "source": [
        "# Initialize the Decision Tree Classifier\n",
        "dt_classifier = DecisionTreeClassifier(criterion='gini', splitter='best', max_depth=None, min_samples_split=2,\n",
        "                                       min_samples_leaf=1, min_weight_fraction_leaf=0.0,\n",
        "                                       max_leaf_nodes=None, min_impurity_decrease=0.0, class_weight=None, ccp_alpha=0.0)\n",
        "\n",
        "# Train the Model\n",
        "dt_classifier.fit(X_train1, y_train1)\n"
      ]
    },
    {
      "cell_type": "code",
      "execution_count": null,
      "metadata": {
        "id": "PN_BJb7ggVnL"
      },
      "outputs": [],
      "source": [
        "# Predict on Test Data\n",
        "y_pred2 = dt_classifier.predict(X_test1)\n"
      ]
    },
    {
      "cell_type": "code",
      "execution_count": null,
      "metadata": {
        "id": "f65pKrUC_0px"
      },
      "outputs": [],
      "source": [
        "#testing data score\n",
        "dt_classifier.score(X_test1,y_test1)"
      ]
    },
    {
      "cell_type": "code",
      "execution_count": null,
      "metadata": {
        "id": "5b5awpv4ASz0"
      },
      "outputs": [],
      "source": [
        "#training data score\n",
        "dt_classifier.score(X_train1,y_train1)"
      ]
    },
    {
      "cell_type": "code",
      "execution_count": null,
      "metadata": {
        "id": "J6Ko8ZgygZ01"
      },
      "outputs": [],
      "source": [
        "cm3 = confusion_matrix(y_test1, y_pred2)\n",
        "\n",
        "# Visualize Confusion Matrix\n",
        "plt.figure(figsize=(3, 3))\n",
        "sb.heatmap(cm3, annot=True, fmt='d', cmap='Blues')\n",
        "plt.xlabel('Predicted')\n",
        "plt.ylabel('Actual')\n",
        "plt.title('Confusion Matrix Decision tree')\n",
        "plt.show()"
      ]
    },
    {
      "cell_type": "code",
      "execution_count": null,
      "metadata": {
        "id": "ZJ50rMvUgjvW"
      },
      "outputs": [],
      "source": [
        "#calculating the accuracy,recall,precision and F1 score by using the score()method\n",
        "from sklearn.metrics import accuracy_score, recall_score, precision_score,f1_score,classification_report, confusion_matrix\n",
        "\n",
        "print(\"The initial performance is:\")\n",
        "print(\"the accuracy is:\", accuracy_score(y_test1,y_pred2))\n",
        "print(\"the recall score is:\", recall_score(y_test1,y_pred2))\n",
        "print(\"the precision score is:\", precision_score(y_test1,y_pred2))\n",
        "print(\"the F1 score is:\", f1_score(y_test1,y_pred2))"
      ]
    },
    {
      "cell_type": "code",
      "execution_count": null,
      "metadata": {
        "id": "0uK4ZS0H86wh"
      },
      "outputs": [],
      "source": [
        "#plotting AUC\n",
        "import matplotlib.pyplot as plt\n",
        "from sklearn.metrics import roc_curve, auc\n",
        "\n",
        "# Generate predicted probabilities for the positive class (class 1)\n",
        "Y_pred_prob2 = dt_classifier.predict_proba(X_test1)[:, 1]  # Select only the second column as it needs only 1D array\n",
        "\n",
        "# Calculate FPR, TPR, and threshold values\n",
        "fpr, tpr, thresholds = roc_curve(y_test1, Y_pred_prob2)\n",
        "\n",
        "# Calculate AUC score\n",
        "roc_auc = auc(fpr, tpr)\n",
        "\n",
        "# Plot the ROC curve\n",
        "plt.figure(figsize=(7, 5))\n",
        "plt.plot(fpr, tpr, color='blue', label=f'ROC curve (AUC = {roc_auc:.2f})')\n",
        "plt.plot([0, 1], [0, 1], color='gray', linestyle='--')  # Diagonal line (no skill)\n",
        "plt.xlim([0.0, 1.0])\n",
        "plt.ylim([0.0, 1.05])\n",
        "plt.xlabel('False Positive Rate')\n",
        "plt.ylabel('True Positive Rate')\n",
        "plt.title('Receiver Operating Characteristic (ROC) Curve Decision Tree')\n",
        "plt.legend(loc=\"lower right\")\n",
        "plt.show()"
      ]
    },
    {
      "cell_type": "markdown",
      "metadata": {
        "id": "Z2zcFp0HAmaz"
      },
      "source": [
        "Interpretation:\n",
        "AUC Score (0.70):\n",
        "\n",
        "**The AUC score is a common measure of model performance. It ranges from 0 to 1, where:**\n",
        "\n",
        "1.0 indicates a perfect model,\n",
        "\n",
        "0.5 indicates a model that performs no better than random guessing,\n",
        "\n",
        "Below 0.5 indicates a model performing worse than random guessing.\n",
        "\n",
        "An AUC of 0.70 suggests that the model has a good, though not exceptional, ability to distinguish between approved and rejected loans.\n",
        "\n",
        "\n",
        "True Positive Rate (Sensitivity) vs. False Positive Rate:\n",
        "\n",
        "The ROC curve shows the trade-off between the true positive rate (sensitivity) and the false positive rate.\n",
        "\n",
        " A curve closer to the top-left corner indicates a better model.\n",
        "\n",
        "\n",
        "Here, the curve does not hug the top-left corner closely, indicating some room for improvement in model performance.\n",
        "\n",
        "\n",
        "**Interpretation of the Curve Shape:**\n",
        "\n",
        "\n",
        "A moderate curve, like the one shown, suggests the model can capture most true positives while keeping false positives at a reasonable level but may struggle with some classification challenges.\n",
        "\n",
        "\n",
        "This is typical when a model is trained on a somewhat challenging or noisy dataset, or when there’s room for additional tuning or feature engineering.\n",
        "Conclusion:\n",
        "\n",
        "The model's performance is decent, indicating a reasonably good classifier. However, it may not be fully optimized and could benefit from further improvement, such as feature selection, hyperparameter tuning, or possibly using a different model to achieve a higher AUC score."
      ]
    },
    {
      "cell_type": "code",
      "execution_count": null,
      "metadata": {
        "id": "p53yVUJs9FqU"
      },
      "outputs": [],
      "source": [
        "#NOW PRINTING THE ACCURACY SCORE OF ALL THREE ALGORITHMS\n",
        "print(f'Accuracy of SVM: {accuracy_score(y_test, y_pred) * 100:.2f}%')\n",
        "\n",
        "print(f' Accuracy of Logistic Regression: {accuracy_score(y_test, y_pred1) * 100:.2f}%')\n",
        "\n",
        "print(f' Accuracy of DECISION TREE: {accuracy_score(y_test1, y_pred2) * 100:.2f}%')"
      ]
    },
    {
      "cell_type": "code",
      "execution_count": null,
      "metadata": {
        "id": "2tHd31sNBm2h"
      },
      "outputs": [],
      "source": [
        "#since the accuracy of SVM and LogiticRegression is allmost same so comparing other parameters\n",
        "print(\"of SVM\")\n",
        "print(\"the recall score is:\", recall_score(y_test,y_pred))\n",
        "print(\"the precision score is:\", precision_score(y_test,y_pred))\n",
        "print(\"the F1 score is:\", f1_score(y_test,y_pred))"
      ]
    },
    {
      "cell_type": "code",
      "execution_count": null,
      "metadata": {
        "id": "-sbCI8IKDAZH"
      },
      "outputs": [],
      "source": [
        "print(\"of LogisticRegression\")\n",
        "print(\"the recall score is:\", recall_score(y_test,y_pred1))\n",
        "print(\"the precision score is:\", precision_score(y_test,y_pred1))\n",
        "print(\"the F1 score is:\", f1_score(y_test,y_pred1))"
      ]
    },
    {
      "cell_type": "markdown",
      "metadata": {
        "id": "XQVAbPOKF5Wa"
      },
      "source": [
        "Since the ROC score of SVM is 0.75 and slightly higher than ROC score of LogisticRegression 0.72 so we can say that the best model is SVM for the prediction problem"
      ]
    },
    {
      "cell_type": "markdown",
      "metadata": {
        "id": "izon-d9LYxPr"
      },
      "source": [
        "\n",
        "now performing the best hyperparameter tuning to find the best estimators and then evaluating the model"
      ]
    },
    {
      "cell_type": "code",
      "execution_count": null,
      "metadata": {
        "id": "_1-wDVlpYv-c"
      },
      "outputs": [],
      "source": [
        "#Hyperparameter Tuning-\n",
        "\n",
        "#importing the GridSearchCV module from sklearn\n",
        "from sklearn.model_selection import  GridSearchCV\n",
        "param_grid = {\n",
        "    'C': [0.1, 1, 10, 100],\n",
        "    'gamma': ['scale', 'auto', 0.1, 1, 10],\n",
        "    'kernel': ['rbf', 'linear', 'poly']\n",
        "}\n",
        "grid = GridSearchCV(SVC(random_state=42), param_grid, refit=True, verbose=2, cv=5)\n",
        "grid.fit(X_train, y_train)\n",
        "\n",
        "print(\"Best Parameters:\", grid.best_params_)\n",
        "best_svm = grid.best_estimator_\n",
        "\n"
      ]
    },
    {
      "cell_type": "code",
      "execution_count": null,
      "metadata": {
        "id": "NLq1vn4QZqsg"
      },
      "outputs": [],
      "source": [
        "#Predictions with Best Estimator\n",
        "y_pred_best = best_svm.predict(X_test)\n",
        "print(\"Tuned Model Performance:\")\n",
        "print(\"the accuracy is:\", accuracy_score(y_test,y_pred_best))\n",
        "print(\"the recall score is:\", recall_score(y_test,y_pred_best))\n",
        "print(\"the precision score is:\", precision_score(y_test,y_pred_best))\n",
        "print(\"the F1 score is:\", f1_score(y_test,y_pred_best))"
      ]
    },
    {
      "cell_type": "code",
      "execution_count": null,
      "metadata": {
        "id": "1-wZzCvfGQCw"
      },
      "outputs": [],
      "source": [
        "# 9. Example Prediction Function\n",
        "def predict_loan(data_input):\n",
        "    input_df = pd.DataFrame([data_input])\n",
        "    input_scaled = scaler.transform(input_df)\n",
        "    prediction = svm_classifier.predict(input_scaled)\n",
        "    return 'Approved' if prediction[0] == 1 else 'Rejected'\n",
        "\n",
        "# Example Usage\n",
        "new_applicant = {\n",
        "    'Gender': 0,                # 1: Male, 0: Female\n",
        "    'Married': 1,               # 1: Yes, 0: No\n",
        "    'Dependents': 4,            # Number of dependents\n",
        "    'Education': 0,             # 1: Graduate, 0: Not Graduate\n",
        "    'Self_Employed': 1,         # 1: Yes, 0: No\n",
        "    'ApplicantIncome': 500,\n",
        "    'CoapplicantIncome': 0,\n",
        "    'LoanAmount': 2000,\n",
        "    'Loan_Amount_Term': 360,\n",
        "    'Credit_History': 0,        # 1: Good, 0: Bad\n",
        "    'Property_Area': 2,         # 0: Urban, 1: Semiurban, 2: Rural\n",
        "    'Income_to_Loan_Ratio': 500 / 2000  # Custom feature\n",
        "}\n",
        "\n",
        "print(predict_loan(new_applicant))"
      ]
    }
  ],
  "metadata": {
    "colab": {
      "provenance": []
    },
    "kernelspec": {
      "display_name": "Python 3",
      "name": "python3"
    },
    "language_info": {
      "name": "python"
    }
  },
  "nbformat": 4,
  "nbformat_minor": 0
}